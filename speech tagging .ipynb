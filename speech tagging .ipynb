{
 "cells": [
  {
   "cell_type": "code",
   "execution_count": 1,
   "metadata": {},
   "outputs": [],
   "source": [
    "import spacy "
   ]
  },
  {
   "cell_type": "code",
   "execution_count": 2,
   "metadata": {},
   "outputs": [],
   "source": [
    "nlp=spacy.load(\"en_core_web_sm\")"
   ]
  },
  {
   "cell_type": "code",
   "execution_count": 3,
   "metadata": {},
   "outputs": [],
   "source": [
    "doc=nlp(u\"the quick brown fox jumped on the lazy dog's back.\" )"
   ]
  },
  {
   "cell_type": "code",
   "execution_count": 4,
   "metadata": {},
   "outputs": [
    {
     "name": "stdout",
     "output_type": "stream",
     "text": [
      "the        DET    DT         determiner\n",
      "quick      PROPN  NNP        noun, proper singular\n",
      "brown      PROPN  NNP        noun, proper singular\n",
      "fox        PROPN  NNP        noun, proper singular\n",
      "jumped     VERB   VBD        verb, past tense\n",
      "on         ADP    IN         conjunction, subordinating or preposition\n",
      "the        DET    DT         determiner\n",
      "lazy       ADJ    JJ         adjective\n",
      "dog        NOUN   NN         noun, singular or mass\n",
      "'s         PART   POS        possessive ending\n",
      "back       NOUN   NN         noun, singular or mass\n",
      ".          PUNCT  .          punctuation mark, sentence closer\n"
     ]
    }
   ],
   "source": [
    "for tags in doc:\n",
    "    print(f\"{tags.text:{10}} {tags.pos_:{6}} {tags.tag_:{10}} {spacy.explain(tags.tag_)}\")"
   ]
  },
  {
   "cell_type": "code",
   "execution_count": 5,
   "metadata": {},
   "outputs": [],
   "source": [
    "doc1=\"i read books\""
   ]
  },
  {
   "cell_type": "code",
   "execution_count": 6,
   "metadata": {},
   "outputs": [],
   "source": [
    "doc1_f=nlp(doc1)"
   ]
  },
  {
   "cell_type": "code",
   "execution_count": 7,
   "metadata": {},
   "outputs": [
    {
     "name": "stdout",
     "output_type": "stream",
     "text": [
      "i          PRON   PRP        pronoun, personal\n",
      "read       VERB   VBP        verb, non-3rd person singular present\n",
      "books      NOUN   NNS        noun, plural\n"
     ]
    }
   ],
   "source": [
    "for tags in doc1_f:\n",
    "    print(f\"{tags.text:{10}} {tags.pos_:{6}} {tags.tag_:{10}} {spacy.explain(tags.tag_)}\")"
   ]
  },
  {
   "cell_type": "code",
   "execution_count": 8,
   "metadata": {},
   "outputs": [],
   "source": [
    "doc2=\"i read a book\""
   ]
  },
  {
   "cell_type": "code",
   "execution_count": 9,
   "metadata": {},
   "outputs": [],
   "source": [
    "doc2_f=nlp(doc2)"
   ]
  },
  {
   "cell_type": "code",
   "execution_count": 10,
   "metadata": {},
   "outputs": [
    {
     "name": "stdout",
     "output_type": "stream",
     "text": [
      "i          PRON   PRP        pronoun, personal\n",
      "read       VERB   VBD        verb, past tense\n",
      "a          DET    DT         determiner\n",
      "book       NOUN   NN         noun, singular or mass\n"
     ]
    }
   ],
   "source": [
    "for tags in doc2_f:\n",
    "    print(f\"{tags.text:{10}} {tags.pos_:{6}} {tags.tag_:{10}} {spacy.explain(tags.tag_)}\")"
   ]
  },
  {
   "cell_type": "code",
   "execution_count": 11,
   "metadata": {},
   "outputs": [],
   "source": [
    "pos_tagging=doc.count_by(spacy.attrs.POS)"
   ]
  },
  {
   "cell_type": "code",
   "execution_count": 12,
   "metadata": {},
   "outputs": [
    {
     "data": {
      "text/plain": [
       "{90: 2, 96: 3, 100: 1, 85: 1, 84: 1, 92: 2, 94: 1, 97: 1}"
      ]
     },
     "execution_count": 12,
     "metadata": {},
     "output_type": "execute_result"
    }
   ],
   "source": [
    "pos_tagging"
   ]
  },
  {
   "cell_type": "code",
   "execution_count": 39,
   "metadata": {},
   "outputs": [
    {
     "name": "stdout",
     "output_type": "stream",
     "text": [
      "  84 ADJ    1\n",
      "  85 ADP    1\n",
      "  90 DET    2\n",
      "  92 NOUN   2\n",
      "  94 PART   1\n",
      "  96 PROPN  3\n",
      "  97 PUNCT  1\n",
      " 100 VERB   1\n"
     ]
    }
   ],
   "source": [
    "for k,v in sorted(pos_tagging.items()):\n",
    "    print(f\"{k:{4}} {doc.vocab[k].text:{6}} {v}\")"
   ]
  },
  {
   "cell_type": "code",
   "execution_count": 41,
   "metadata": {},
   "outputs": [],
   "source": [
    "simple_tags=doc.count_by(spacy.attrs.TAG)"
   ]
  },
  {
   "cell_type": "code",
   "execution_count": 42,
   "metadata": {},
   "outputs": [
    {
     "data": {
      "text/plain": [
       "{15267657372422890137: 2,\n",
       " 15794550382381185553: 3,\n",
       " 17109001835818727656: 1,\n",
       " 1292078113972184607: 1,\n",
       " 10554686591937588953: 1,\n",
       " 15308085513773655218: 2,\n",
       " 74: 1,\n",
       " 12646065887601541794: 1}"
      ]
     },
     "execution_count": 42,
     "metadata": {},
     "output_type": "execute_result"
    }
   ],
   "source": [
    "simple_tags"
   ]
  },
  {
   "cell_type": "code",
   "execution_count": 47,
   "metadata": {},
   "outputs": [
    {
     "name": "stdout",
     "output_type": "stream",
     "text": [
      "                  74   1   POS\n",
      " 1292078113972184607   1   IN\n",
      "10554686591937588953   1   JJ\n",
      "12646065887601541794   1   .\n",
      "15267657372422890137   2   DT\n",
      "15308085513773655218   2   NN\n",
      "15794550382381185553   3   NNP\n",
      "17109001835818727656   1   VBD\n"
     ]
    }
   ],
   "source": [
    "for a,b in sorted(simple_tags.items()):\n",
    "    print(f\"{a:{20}}   {b}   {doc.vocab[a].text}\")"
   ]
  }
 ],
 "metadata": {
  "kernelspec": {
   "display_name": "Python 3",
   "language": "python",
   "name": "python3"
  },
  "language_info": {
   "codemirror_mode": {
    "name": "ipython",
    "version": 3
   },
   "file_extension": ".py",
   "mimetype": "text/x-python",
   "name": "python",
   "nbconvert_exporter": "python",
   "pygments_lexer": "ipython3",
   "version": "3.7.6"
  }
 },
 "nbformat": 4,
 "nbformat_minor": 4
}
