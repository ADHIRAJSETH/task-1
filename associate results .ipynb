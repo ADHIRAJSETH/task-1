{
 "cells": [
  {
   "cell_type": "code",
   "execution_count": 25,
   "metadata": {},
   "outputs": [
    {
     "name": "stdout",
     "output_type": "stream",
     "text": [
      "Requirement already satisfied: apyori in c:\\users\\hp\\anaconda3\\lib\\site-packages (1.1.2)\n"
     ]
    }
   ],
   "source": [
    "!pip install apyori"
   ]
  },
  {
   "cell_type": "code",
   "execution_count": 130,
   "metadata": {},
   "outputs": [],
   "source": [
    "#Importing pandas library to read CSV data file\n",
    "import pandas as pd\n",
    "# Data Preprocessing\n",
    "df = pd.read_csv('GroceryStoreDataSet.csv', header = None)"
   ]
  },
  {
   "cell_type": "code",
   "execution_count": 169,
   "metadata": {},
   "outputs": [
    {
     "data": {
      "text/html": [
       "<div>\n",
       "<style scoped>\n",
       "    .dataframe tbody tr th:only-of-type {\n",
       "        vertical-align: middle;\n",
       "    }\n",
       "\n",
       "    .dataframe tbody tr th {\n",
       "        vertical-align: top;\n",
       "    }\n",
       "\n",
       "    .dataframe thead th {\n",
       "        text-align: right;\n",
       "    }\n",
       "</style>\n",
       "<table border=\"1\" class=\"dataframe\">\n",
       "  <thead>\n",
       "    <tr style=\"text-align: right;\">\n",
       "      <th></th>\n",
       "      <th>0</th>\n",
       "      <th>1</th>\n",
       "      <th>2</th>\n",
       "      <th>3</th>\n",
       "      <th>4</th>\n",
       "    </tr>\n",
       "  </thead>\n",
       "  <tbody>\n",
       "    <tr>\n",
       "      <th>0</th>\n",
       "      <td>coffee</td>\n",
       "      <td>donut</td>\n",
       "      <td>sugar</td>\n",
       "      <td>bread</td>\n",
       "      <td>soup</td>\n",
       "    </tr>\n",
       "    <tr>\n",
       "      <th>1</th>\n",
       "      <td>soda</td>\n",
       "      <td>candy</td>\n",
       "      <td>milk</td>\n",
       "      <td>cheese</td>\n",
       "      <td>NaN</td>\n",
       "    </tr>\n",
       "    <tr>\n",
       "      <th>2</th>\n",
       "      <td>fruit</td>\n",
       "      <td>bread</td>\n",
       "      <td>cream</td>\n",
       "      <td>NaN</td>\n",
       "      <td>NaN</td>\n",
       "    </tr>\n",
       "    <tr>\n",
       "      <th>3</th>\n",
       "      <td>coffee</td>\n",
       "      <td>donut</td>\n",
       "      <td>NaN</td>\n",
       "      <td>NaN</td>\n",
       "      <td>NaN</td>\n",
       "    </tr>\n",
       "    <tr>\n",
       "      <th>4</th>\n",
       "      <td>water</td>\n",
       "      <td>soup</td>\n",
       "      <td>milk</td>\n",
       "      <td>NaN</td>\n",
       "      <td>NaN</td>\n",
       "    </tr>\n",
       "    <tr>\n",
       "      <th>...</th>\n",
       "      <td>...</td>\n",
       "      <td>...</td>\n",
       "      <td>...</td>\n",
       "      <td>...</td>\n",
       "      <td>...</td>\n",
       "    </tr>\n",
       "    <tr>\n",
       "      <th>95</th>\n",
       "      <td>milk</td>\n",
       "      <td>NaN</td>\n",
       "      <td>NaN</td>\n",
       "      <td>NaN</td>\n",
       "      <td>NaN</td>\n",
       "    </tr>\n",
       "    <tr>\n",
       "      <th>96</th>\n",
       "      <td>soda</td>\n",
       "      <td>candy</td>\n",
       "      <td>NaN</td>\n",
       "      <td>NaN</td>\n",
       "      <td>NaN</td>\n",
       "    </tr>\n",
       "    <tr>\n",
       "      <th>97</th>\n",
       "      <td>donut</td>\n",
       "      <td>water</td>\n",
       "      <td>cheese</td>\n",
       "      <td>cream</td>\n",
       "      <td>coffee</td>\n",
       "    </tr>\n",
       "    <tr>\n",
       "      <th>98</th>\n",
       "      <td>jam</td>\n",
       "      <td>cake</td>\n",
       "      <td>bread</td>\n",
       "      <td>NaN</td>\n",
       "      <td>NaN</td>\n",
       "    </tr>\n",
       "    <tr>\n",
       "      <th>99</th>\n",
       "      <td>cream</td>\n",
       "      <td>coffee</td>\n",
       "      <td>suger</td>\n",
       "      <td>donut</td>\n",
       "      <td>NaN</td>\n",
       "    </tr>\n",
       "  </tbody>\n",
       "</table>\n",
       "<p>100 rows × 5 columns</p>\n",
       "</div>"
      ],
      "text/plain": [
       "         0       1       2       3       4\n",
       "0   coffee   donut   sugar   bread    soup\n",
       "1     soda   candy    milk  cheese     NaN\n",
       "2    fruit   bread   cream     NaN     NaN\n",
       "3   coffee   donut     NaN     NaN     NaN\n",
       "4    water    soup    milk     NaN     NaN\n",
       "..     ...     ...     ...     ...     ...\n",
       "95    milk     NaN     NaN     NaN     NaN\n",
       "96    soda   candy     NaN     NaN     NaN\n",
       "97   donut   water  cheese   cream  coffee\n",
       "98     jam    cake   bread     NaN     NaN\n",
       "99   cream  coffee   suger   donut     NaN\n",
       "\n",
       "[100 rows x 5 columns]"
      ]
     },
     "execution_count": 169,
     "metadata": {},
     "output_type": "execute_result"
    }
   ],
   "source": [
    "df"
   ]
  },
  {
   "cell_type": "code",
   "execution_count": 187,
   "metadata": {},
   "outputs": [],
   "source": [
    "transactions = []\n",
    "\n",
    "for i in range(0, 100):\n",
    "    transactions.append([str(df.values[i,j]) for j in range(0, 5) ])"
   ]
  },
  {
   "cell_type": "code",
   "execution_count": 175,
   "metadata": {},
   "outputs": [],
   "source": [
    "\n",
    "for a in range(0,100):\n",
    "    for n in range(0,transactions[a].count('nan')):\n",
    "        t=transactions[a].remove('nan')\n",
    "        transactions.append(t)"
   ]
  },
  {
   "cell_type": "code",
   "execution_count": 176,
   "metadata": {},
   "outputs": [],
   "source": [
    "trans=[]\n",
    "for l in range(0,100):\n",
    "    t=transactions[l]\n",
    "    trans.append(t)"
   ]
  },
  {
   "cell_type": "code",
   "execution_count": 177,
   "metadata": {},
   "outputs": [
    {
     "data": {
      "text/plain": [
       "[['coffee', 'donut', 'sugar', 'bread', 'soup'],\n",
       " ['soda', 'candy', 'milk', 'cheese'],\n",
       " ['fruit', 'bread', 'cream'],\n",
       " ['coffee', 'donut'],\n",
       " ['water', 'soup', 'milk'],\n",
       " ['soda', 'candy'],\n",
       " ['coffee', 'sugar', 'donut', 'cheese', 'soda'],\n",
       " ['water', 'bread', 'cream'],\n",
       " ['soda', 'candy'],\n",
       " ['soda', 'candy'],\n",
       " ['coffee', 'cream', 'cheese', 'soup', 'soda'],\n",
       " ['water', 'cake', 'cream', 'soda'],\n",
       " ['soda', 'cake', 'milk', 'candy'],\n",
       " ['coffee', 'sugar', 'donut'],\n",
       " ['fruit', 'cream'],\n",
       " ['soda', 'candy', 'cheese'],\n",
       " ['water', 'bread'],\n",
       " ['coffee', 'cream', 'sugar', 'soda'],\n",
       " ['water', 'bread', 'soup'],\n",
       " ['soda', 'candy', 'milk'],\n",
       " ['soda', 'candy', 'cheese'],\n",
       " ['coffee', 'cream', 'donut'],\n",
       " ['soda', 'bread', 'nuts'],\n",
       " ['soda', 'cake', 'soup', 'candy'],\n",
       " ['jam', 'cake', 'bread'],\n",
       " ['coffee', 'donut'],\n",
       " ['jam', 'cheese', 'bread', 'soda'],\n",
       " ['soda', 'candy'],\n",
       " ['soda', 'candy'],\n",
       " ['soda', 'cake', 'milk', 'cheese', 'bread'],\n",
       " ['soda', 'cake', 'soup'],\n",
       " ['water', 'cake'],\n",
       " ['coffee', 'donut', 'bread', 'soda'],\n",
       " ['milk', 'cream'],\n",
       " ['soda', 'milk', 'candy'],\n",
       " ['milk', 'cake'],\n",
       " ['coffee', 'sugar', 'soup', 'donut'],\n",
       " ['bread', 'cheese', 'jam'],\n",
       " ['soda', 'candy'],\n",
       " ['bread', 'cake', 'jam'],\n",
       " ['bread', 'milk', 'water'],\n",
       " ['soda', 'candy'],\n",
       " ['soda', 'cream', 'bread'],\n",
       " ['water', 'cheese'],\n",
       " ['coffee', 'soup', 'donut'],\n",
       " ['jam', 'water'],\n",
       " ['soda', 'candy'],\n",
       " ['soda', 'candy'],\n",
       " ['donut', 'milk', 'bread', 'coffee'],\n",
       " ['fruit', 'cake'],\n",
       " ['jam', 'soda', 'soup'],\n",
       " ['sugar', 'coffee'],\n",
       " ['cream', 'sugar'],\n",
       " ['soda', 'cheese', 'candy'],\n",
       " ['sugar', 'milk'],\n",
       " ['coffee', 'soda', 'sugar', 'donut'],\n",
       " ['milk', 'cake'],\n",
       " ['water', 'bread'],\n",
       " ['soda', 'candy', 'soup'],\n",
       " ['soda', 'bread', 'candy'],\n",
       " ['soda', 'candy'],\n",
       " ['coffee', 'soup', 'donut'],\n",
       " ['donut', 'cheese', 'soda'],\n",
       " ['water', 'milk'],\n",
       " ['soda', 'candy'],\n",
       " ['nuts', 'soup', 'soda'],\n",
       " ['fruit', 'milk'],\n",
       " ['nuts', 'water'],\n",
       " ['coffee', 'cheese', 'donut'],\n",
       " ['nuts', 'cake'],\n",
       " ['soda', 'candy'],\n",
       " ['sugar', 'candy', 'soup'],\n",
       " ['coffee', 'sugar'],\n",
       " ['soda', 'candy'],\n",
       " ['jam', 'bread', 'cream'],\n",
       " ['coffee', 'donut', 'milk', 'cake'],\n",
       " ['nuts', 'water'],\n",
       " ['soda', 'candy'],\n",
       " ['nuts', 'water', 'candy'],\n",
       " ['water', 'soup'],\n",
       " ['coffee', 'donut', 'sugar'],\n",
       " ['nuts', 'cheese'],\n",
       " ['soda', 'candy', 'milk'],\n",
       " ['jam', 'bread'],\n",
       " ['soda', 'candy'],\n",
       " ['coffee', 'cream', 'cake'],\n",
       " ['donut', 'water', 'coffee'],\n",
       " ['soda', 'cream', 'candy'],\n",
       " ['jam', 'bread', 'milk'],\n",
       " ['coffee', 'donut', 'cheese'],\n",
       " ['nuts'],\n",
       " ['soda', 'water', 'cake'],\n",
       " ['fruit', 'soup'],\n",
       " ['water'],\n",
       " ['coffee', 'donut'],\n",
       " ['milk'],\n",
       " ['soda', 'candy'],\n",
       " ['donut', 'water', 'cheese', 'cream', 'coffee'],\n",
       " ['jam', 'cake', 'bread'],\n",
       " ['cream', 'coffee', 'suger', 'donut']]"
      ]
     },
     "execution_count": 177,
     "metadata": {},
     "output_type": "execute_result"
    }
   ],
   "source": [
    "trans"
   ]
  },
  {
   "cell_type": "code",
   "execution_count": 183,
   "metadata": {},
   "outputs": [],
   "source": [
    "from apyori import apriori\n",
    "\n",
    "# Training Apriori on the dataset\n",
    "rules = apriori(trans, min_support = 0.08, min_confidence = 0.7, min_lift = 3, min_length = 2,\n",
    "               max_length = 3)\n",
    "\n",
    "# Create list of results\n",
    "results = list(rules)"
   ]
  },
  {
   "cell_type": "code",
   "execution_count": 184,
   "metadata": {
    "scrolled": true
   },
   "outputs": [
    {
     "data": {
      "text/plain": [
       "[RelationRecord(items=frozenset({'bread', 'jam'}), support=0.08, ordered_statistics=[OrderedStatistic(items_base=frozenset({'jam'}), items_add=frozenset({'bread'}), confidence=0.7999999999999999, lift=3.8095238095238093)]),\n",
       " RelationRecord(items=frozenset({'coffee', 'donut'}), support=0.2, ordered_statistics=[OrderedStatistic(items_base=frozenset({'coffee'}), items_add=frozenset({'donut'}), confidence=0.8, lift=3.8095238095238098), OrderedStatistic(items_base=frozenset({'donut'}), items_add=frozenset({'coffee'}), confidence=0.9523809523809524, lift=3.8095238095238098)]),\n",
       " RelationRecord(items=frozenset({'coffee', 'sugar'}), support=0.09, ordered_statistics=[OrderedStatistic(items_base=frozenset({'sugar'}), items_add=frozenset({'coffee'}), confidence=0.75, lift=3.0)])]"
      ]
     },
     "execution_count": 184,
     "metadata": {},
     "output_type": "execute_result"
    }
   ],
   "source": [
    "results"
   ]
  },
  {
   "cell_type": "code",
   "execution_count": 185,
   "metadata": {},
   "outputs": [],
   "source": [
    "def inspect(results):\n",
    "    li          = [tuple(result[2][0][0])[0] for result in results]\n",
    "    ri          = [tuple(result[2][0][1])[0] for result in results]\n",
    "    supports    = [result[1] for result in results]\n",
    "    confidences = [result[2][0][2] for result in results]\n",
    "    lifts       = [result[2][0][3] for result in results]\n",
    "    return list(zip(li, ri, supports, confidences, lifts))\n",
    "resultsinDataFrame = pd.DataFrame(inspect(results), columns = ['Left Item', 'Right Item', 'Support', 'Confidence', 'Lift'])"
   ]
  },
  {
   "cell_type": "code",
   "execution_count": 186,
   "metadata": {},
   "outputs": [
    {
     "data": {
      "text/html": [
       "<div>\n",
       "<style scoped>\n",
       "    .dataframe tbody tr th:only-of-type {\n",
       "        vertical-align: middle;\n",
       "    }\n",
       "\n",
       "    .dataframe tbody tr th {\n",
       "        vertical-align: top;\n",
       "    }\n",
       "\n",
       "    .dataframe thead th {\n",
       "        text-align: right;\n",
       "    }\n",
       "</style>\n",
       "<table border=\"1\" class=\"dataframe\">\n",
       "  <thead>\n",
       "    <tr style=\"text-align: right;\">\n",
       "      <th></th>\n",
       "      <th>Left Item</th>\n",
       "      <th>Right Item</th>\n",
       "      <th>Support</th>\n",
       "      <th>Confidence</th>\n",
       "      <th>Lift</th>\n",
       "    </tr>\n",
       "  </thead>\n",
       "  <tbody>\n",
       "    <tr>\n",
       "      <th>0</th>\n",
       "      <td>jam</td>\n",
       "      <td>bread</td>\n",
       "      <td>0.08</td>\n",
       "      <td>0.80</td>\n",
       "      <td>3.809524</td>\n",
       "    </tr>\n",
       "    <tr>\n",
       "      <th>1</th>\n",
       "      <td>coffee</td>\n",
       "      <td>donut</td>\n",
       "      <td>0.20</td>\n",
       "      <td>0.80</td>\n",
       "      <td>3.809524</td>\n",
       "    </tr>\n",
       "    <tr>\n",
       "      <th>2</th>\n",
       "      <td>sugar</td>\n",
       "      <td>coffee</td>\n",
       "      <td>0.09</td>\n",
       "      <td>0.75</td>\n",
       "      <td>3.000000</td>\n",
       "    </tr>\n",
       "  </tbody>\n",
       "</table>\n",
       "</div>"
      ],
      "text/plain": [
       "  Left Item Right Item  Support  Confidence      Lift\n",
       "0       jam      bread     0.08        0.80  3.809524\n",
       "1    coffee      donut     0.20        0.80  3.809524\n",
       "2     sugar     coffee     0.09        0.75  3.000000"
      ]
     },
     "execution_count": 186,
     "metadata": {},
     "output_type": "execute_result"
    }
   ],
   "source": [
    "resultsinDataFrame"
   ]
  },
  {
   "cell_type": "code",
   "execution_count": null,
   "metadata": {},
   "outputs": [],
   "source": []
  }
 ],
 "metadata": {
  "kernelspec": {
   "display_name": "Python 3",
   "language": "python",
   "name": "python3"
  },
  "language_info": {
   "codemirror_mode": {
    "name": "ipython",
    "version": 3
   },
   "file_extension": ".py",
   "mimetype": "text/x-python",
   "name": "python",
   "nbconvert_exporter": "python",
   "pygments_lexer": "ipython3",
   "version": "3.7.6"
  }
 },
 "nbformat": 4,
 "nbformat_minor": 4
}
